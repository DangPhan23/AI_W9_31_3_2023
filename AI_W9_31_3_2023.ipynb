{
  "nbformat": 4,
  "nbformat_minor": 0,
  "metadata": {
    "colab": {
      "provenance": [],
      "authorship_tag": "ABX9TyNsXmK9x87GOTmR/sW09OA5",
      "include_colab_link": true
    },
    "kernelspec": {
      "name": "python3",
      "display_name": "Python 3"
    },
    "language_info": {
      "name": "python"
    }
  },
  "cells": [
    {
      "cell_type": "markdown",
      "metadata": {
        "id": "view-in-github",
        "colab_type": "text"
      },
      "source": [
        "<a href=\"https://colab.research.google.com/github/DangPhan23/AI_W9_31_3_2023/blob/main/AI_W9_31_3_2023.ipynb\" target=\"_parent\"><img src=\"https://colab.research.google.com/assets/colab-badge.svg\" alt=\"Open In Colab\"/></a>"
      ]
    },
    {
      "cell_type": "code",
      "execution_count": null,
      "metadata": {
        "id": "F3vTmxutO132"
      },
      "outputs": [],
      "source": [
        "from keras.datasets import mnist\n",
        "(train_images,train_labels),(test_images,test_labels)=mnist.load_data()"
      ]
    },
    {
      "cell_type": "code",
      "source": [
        "train_images.shape#coi dữ liệu"
      ],
      "metadata": {
        "id": "vDpl79jITQYF",
        "outputId": "fb224ef6-1ccc-4eb6-999f-cb9e0136ebb8",
        "colab": {
          "base_uri": "https://localhost:8080/"
        }
      },
      "execution_count": null,
      "outputs": [
        {
          "output_type": "execute_result",
          "data": {
            "text/plain": [
              "(60000, 28, 28)"
            ]
          },
          "metadata": {},
          "execution_count": 214
        }
      ]
    },
    {
      "cell_type": "code",
      "source": [
        "train_labels.shape "
      ],
      "metadata": {
        "colab": {
          "base_uri": "https://localhost:8080/"
        },
        "id": "6N9GR54IRens",
        "outputId": "00fba77f-5d9f-45d5-a3bb-904d692790be"
      },
      "execution_count": null,
      "outputs": [
        {
          "output_type": "execute_result",
          "data": {
            "text/plain": [
              "(60000,)"
            ]
          },
          "metadata": {},
          "execution_count": 215
        }
      ]
    },
    {
      "cell_type": "code",
      "source": [
        "test_images.shape "
      ],
      "metadata": {
        "colab": {
          "base_uri": "https://localhost:8080/"
        },
        "id": "bbf7hA-wTY5O",
        "outputId": "9d0b8697-dc2c-4bf5-d190-d58cb7b92ddf"
      },
      "execution_count": null,
      "outputs": [
        {
          "output_type": "execute_result",
          "data": {
            "text/plain": [
              "(10000, 28, 28)"
            ]
          },
          "metadata": {},
          "execution_count": 216
        }
      ]
    },
    {
      "cell_type": "code",
      "source": [
        "test_labels.shape "
      ],
      "metadata": {
        "colab": {
          "base_uri": "https://localhost:8080/"
        },
        "id": "-f2JPLiCTdyN",
        "outputId": "909781a4-0f9e-4e2d-d3bc-6554f3c29aea"
      },
      "execution_count": null,
      "outputs": [
        {
          "output_type": "execute_result",
          "data": {
            "text/plain": [
              "(10000,)"
            ]
          },
          "metadata": {},
          "execution_count": 217
        }
      ]
    },
    {
      "cell_type": "code",
      "source": [
        "digit = train_images[5000]\n"
      ],
      "metadata": {
        "id": "4gOFrWqzThqV"
      },
      "execution_count": null,
      "outputs": []
    },
    {
      "cell_type": "code",
      "source": [
        "import matplotlib.pyplot as plt\n",
        "plt.imshow(digit)\n",
        "plt.show\n",
        "print('so nay la:', train_labels[5000] )"
      ],
      "metadata": {
        "colab": {
          "base_uri": "https://localhost:8080/",
          "height": 447
        },
        "id": "CjaNJnBFTri2",
        "outputId": "c1e4105d-1c03-49eb-a807-150df428154a"
      },
      "execution_count": null,
      "outputs": [
        {
          "output_type": "stream",
          "name": "stdout",
          "text": [
            "so nay la: 7\n"
          ]
        },
        {
          "output_type": "display_data",
          "data": {
            "text/plain": [
              "<Figure size 640x480 with 1 Axes>"
            ],
            "image/png": "[encoded data removed]"
          },
          "metadata": {}
        }
      ]
    },
    {
      "cell_type": "code",
      "source": [
        "for i in range(10):\n",
        "  plt.subplot(3,5,i+1)\n",
        "  plt.tight_layout\n",
        "  plt.imshow(train_images[i], cmap = 'gray', interpolation ='None')\n",
        "  plt.title('So nay la: {}'.format(train_labels[i]))\n",
        "  plt.xticks([])\n",
        "  plt.yticks([])"
      ],
      "metadata": {
        "colab": {
          "base_uri": "https://localhost:8080/",
          "height": 275
        },
        "id": "Ox7JJIZSUz6W",
        "outputId": "90881aa5-eae1-4c62-87c1-2a18dd3ff477"
      },
      "execution_count": null,
      "outputs": [
        {
          "output_type": "display_data",
          "data": {
            "text/plain": [
              "<Figure size 640x480 with 10 Axes>"
            ],
            "image/png": "[encoded data removed]"
          },
          "metadata": {}
        }
      ]
    },
    {
      "cell_type": "code",
      "source": [
        "from keras.models import Sequential\n",
        "from keras.layers import Dense\n",
        "model = Sequential()\n",
        "model.add(Dense(512,activation='relu',input_shape=(28*28,)))\n",
        "model.add(Dense(10,activation='softmax'))\n",
        "model.summary()"
      ],
      "metadata": {
        "colab": {
          "base_uri": "https://localhost:8080/"
        },
        "id": "b7m_t96eZDIu",
        "outputId": "33d1ee4e-2b1d-4965-9983-3dae96fc2053"
      },
      "execution_count": null,
      "outputs": [
        {
          "output_type": "stream",
          "name": "stdout",
          "text": [
            "Model: \"sequential_13\"\n",
            "_________________________________________________________________\n",
            " Layer (type)                Output Shape              Param #   \n",
            "=================================================================\n",
            " dense_23 (Dense)            (None, 512)               401920    \n",
            "                                                                 \n",
            " dense_24 (Dense)            (None, 10)                5130      \n",
            "                                                                 \n",
            "=================================================================\n",
            "Total params: 407,050\n",
            "Trainable params: 407,050\n",
            "Non-trainable params: 0\n",
            "_________________________________________________________________\n"
          ]
        }
      ]
    },
    {
      "cell_type": "code",
      "source": [
        "train_images = train_images.reshape((60000,28*28))\n",
        "train_images = train_images.astype('float32')/255\n",
        "train_images.shape"
      ],
      "metadata": {
        "colab": {
          "base_uri": "https://localhost:8080/"
        },
        "id": "porPu6I_b4nm",
        "outputId": "e7847256-92ca-40db-8bb5-988dcb0d7bcc"
      },
      "execution_count": null,
      "outputs": [
        {
          "output_type": "execute_result",
          "data": {
            "text/plain": [
              "(60000, 784)"
            ]
          },
          "metadata": {},
          "execution_count": 222
        }
      ]
    },
    {
      "cell_type": "code",
      "source": [
        "test_images = test_images.reshape((10000,28*28))\n",
        "test_images = test_images.astype('float32')/255\n",
        "test_images.shape"
      ],
      "metadata": {
        "colab": {
          "base_uri": "https://localhost:8080/"
        },
        "id": "UpBiUXUAcwr7",
        "outputId": "8b5f5cba-32dc-47b9-d58c-bbcbb690eb14"
      },
      "execution_count": null,
      "outputs": [
        {
          "output_type": "execute_result",
          "data": {
            "text/plain": [
              "(10000, 784)"
            ]
          },
          "metadata": {},
          "execution_count": 223
        }
      ]
    },
    {
      "cell_type": "code",
      "source": [
        "from keras.utils import to_categorical # chuyen 1 bit thanh nhieu bit\n",
        "train_labels = to_categorical(train_labels,10)\n",
        "test_labels = to_categorical(test_labels,10)"
      ],
      "metadata": {
        "id": "jHNlzJuGdqI2"
      },
      "execution_count": null,
      "outputs": []
    },
    {
      "cell_type": "code",
      "source": [
        "train_labels.shape"
      ],
      "metadata": {
        "colab": {
          "base_uri": "https://localhost:8080/"
        },
        "id": "0tIcWcppemFW",
        "outputId": "04beca68-17d5-4d1c-d4d2-fe64f7f0120a"
      },
      "execution_count": null,
      "outputs": [
        {
          "output_type": "execute_result",
          "data": {
            "text/plain": [
              "(60000, 10)"
            ]
          },
          "metadata": {},
          "execution_count": 225
        }
      ]
    },
    {
      "cell_type": "code",
      "source": [
        "test_labels.shape"
      ],
      "metadata": {
        "colab": {
          "base_uri": "https://localhost:8080/"
        },
        "id": "cxtWLUVWenxu",
        "outputId": "96ec6bb2-b3fc-4e24-d88a-0b1b879550c9"
      },
      "execution_count": null,
      "outputs": [
        {
          "output_type": "execute_result",
          "data": {
            "text/plain": [
              "(10000, 10)"
            ]
          },
          "metadata": {},
          "execution_count": 226
        }
      ]
    },
    {
      "cell_type": "code",
      "source": [
        "model.compile(optimizer= 'rmsprop', loss ='categorical_crossentropy', metrics= ['accuracy'])"
      ],
      "metadata": {
        "id": "Dq3ROs5le6td"
      },
      "execution_count": null,
      "outputs": []
    },
    {
      "cell_type": "code",
      "source": [
        "model.fit(train_images, train_labels, epochs=20, batch_size=128)"
      ],
      "metadata": {
        "colab": {
          "base_uri": "https://localhost:8080/"
        },
        "id": "veho0PWBkZgu",
        "outputId": "acbd93e4-51e4-4fb3-b50a-80fb01b5c19d"
      },
      "execution_count": null,
      "outputs": [
        {
          "output_type": "stream",
          "name": "stdout",
          "text": [
            "Epoch 1/20\n",
            "469/469 [==============================] - 6s 12ms/step - loss: 0.2639 - accuracy: 0.9251\n",
            "Epoch 2/20\n",
            "469/469 [==============================] - 5s 10ms/step - loss: 0.1073 - accuracy: 0.9683\n",
            "Epoch 3/20\n",
            "469/469 [==============================] - 7s 14ms/step - loss: 0.0705 - accuracy: 0.9786\n",
            "Epoch 4/20\n",
            "469/469 [==============================] - 5s 10ms/step - loss: 0.0520 - accuracy: 0.9839\n",
            "Epoch 5/20\n",
            "469/469 [==============================] - 5s 10ms/step - loss: 0.0382 - accuracy: 0.9886\n",
            "Epoch 6/20\n",
            "469/469 [==============================] - 7s 15ms/step - loss: 0.0291 - accuracy: 0.9915\n",
            "Epoch 7/20\n",
            "469/469 [==============================] - 5s 10ms/step - loss: 0.0223 - accuracy: 0.9933\n",
            "Epoch 8/20\n",
            "469/469 [==============================] - 5s 10ms/step - loss: 0.0169 - accuracy: 0.9955\n",
            "Epoch 9/20\n",
            "469/469 [==============================] - 6s 12ms/step - loss: 0.0129 - accuracy: 0.9967\n",
            "Epoch 10/20\n",
            "469/469 [==============================] - 5s 10ms/step - loss: 0.0095 - accuracy: 0.9977\n",
            "Epoch 11/20\n",
            "469/469 [==============================] - 5s 11ms/step - loss: 0.0064 - accuracy: 0.9989\n",
            "Epoch 12/20\n",
            "469/469 [==============================] - 5s 10ms/step - loss: 0.0049 - accuracy: 0.9990\n",
            "Epoch 13/20\n",
            "469/469 [==============================] - 5s 10ms/step - loss: 0.0038 - accuracy: 0.9994\n",
            "Epoch 14/20\n",
            "469/469 [==============================] - 6s 12ms/step - loss: 0.0024 - accuracy: 0.9996\n",
            "Epoch 15/20\n",
            "469/469 [==============================] - 5s 10ms/step - loss: 0.0017 - accuracy: 0.9997\n",
            "Epoch 16/20\n",
            "469/469 [==============================] - 5s 10ms/step - loss: 0.0011 - accuracy: 0.9999\n",
            "Epoch 17/20\n",
            "469/469 [==============================] - 7s 16ms/step - loss: 7.4042e-04 - accuracy: 1.0000\n",
            "Epoch 18/20\n",
            "469/469 [==============================] - 5s 10ms/step - loss: 5.2600e-04 - accuracy: 1.0000\n",
            "Epoch 19/20\n",
            "469/469 [==============================] - 6s 12ms/step - loss: 4.3095e-04 - accuracy: 1.0000\n",
            "Epoch 20/20\n",
            "469/469 [==============================] - 5s 10ms/step - loss: 3.3792e-04 - accuracy: 1.0000\n"
          ]
        },
        {
          "output_type": "execute_result",
          "data": {
            "text/plain": [
              "<keras.callbacks.History at 0x7fb4f5612670>"
            ]
          },
          "metadata": {},
          "execution_count": 228
        }
      ]
    },
    {
      "cell_type": "code",
      "source": [
        "test_loss"
      ],
      "metadata": {
        "id": "wrRxZD3Alxze"
      },
      "execution_count": null,
      "outputs": []
    }
  ]
}